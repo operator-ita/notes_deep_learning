{
 "cells": [
  {
   "cell_type": "markdown",
   "metadata": {},
   "source": [
    "# Logistic Regression Classifier "
   ]
  },
  {
   "cell_type": "code",
   "execution_count": 50,
   "metadata": {},
   "outputs": [],
   "source": [
    "import numpy as np \n",
    "import copy\n",
    "import matplotlib.pyplot as plt\n",
    "from dl_models import LogisticRegressor\n",
    "%matplotlib inline"
   ]
  },
  {
   "cell_type": "markdown",
   "metadata": {},
   "source": [
    "## And Gate"
   ]
  },
  {
   "cell_type": "code",
   "execution_count": 10,
   "metadata": {},
   "outputs": [],
   "source": [
    "x_train = np.array([ [0,0,1,1], [0,1,0,1]])\n",
    "y_train = np.multiply(x_train[0,:],x_train[1,:]).reshape(1,4)\n",
    "\n",
    "x_test = x_train\n",
    "y_test = y_train"
   ]
  },
  {
   "cell_type": "code",
   "execution_count": 19,
   "metadata": {},
   "outputs": [
    {
     "data": {
      "text/plain": [
       "<matplotlib.collections.PathCollection at 0x7f55ea8272e0>"
      ]
     },
     "execution_count": 19,
     "metadata": {},
     "output_type": "execute_result"
    },
    {
     "data": {
      "image/png": "[encoded data removed]",
      "text/plain": [
       "<Figure size 432x288 with 1 Axes>"
      ]
     },
     "metadata": {
      "needs_background": "light"
     },
     "output_type": "display_data"
    }
   ],
   "source": [
    "plt.figure()\n",
    "plt.scatter(x_train[0,:], x_train[1,:], s=200, c=['blue', 'blue', 'blue', 'red'])"
   ]
  },
  {
   "cell_type": "code",
   "execution_count": 11,
   "metadata": {},
   "outputs": [
    {
     "name": "stdout",
     "output_type": "stream",
     "text": [
      "Cost after iteration 0: 0.693147\n",
      "Cost after iteration 100: 0.665345\n",
      "Cost after iteration 200: 0.642993\n",
      "Cost after iteration 300: 0.624422\n",
      "Cost after iteration 400: 0.608508\n",
      "Cost after iteration 500: 0.594498\n",
      "Cost after iteration 600: 0.581883\n",
      "Cost after iteration 700: 0.570317\n",
      "Cost after iteration 800: 0.559564\n",
      "Cost after iteration 900: 0.549460\n",
      "Cost after iteration 1000: 0.539890\n",
      "Cost after iteration 1100: 0.530771\n",
      "Cost after iteration 1200: 0.522044\n",
      "Cost after iteration 1300: 0.513664\n",
      "Cost after iteration 1400: 0.505598\n",
      "Cost after iteration 1500: 0.497820\n",
      "Cost after iteration 1600: 0.490310\n",
      "Cost after iteration 1700: 0.483048\n",
      "Cost after iteration 1800: 0.476022\n",
      "Cost after iteration 1900: 0.469218\n",
      "Cost after iteration 2000: 0.462626\n",
      "Cost after iteration 2100: 0.456234\n",
      "Cost after iteration 2200: 0.450034\n",
      "Cost after iteration 2300: 0.444018\n",
      "Cost after iteration 2400: 0.438176\n",
      "Cost after iteration 2500: 0.432502\n",
      "Cost after iteration 2600: 0.426989\n",
      "Cost after iteration 2700: 0.421630\n",
      "Cost after iteration 2800: 0.416419\n",
      "Cost after iteration 2900: 0.411349\n",
      "Cost after iteration 3000: 0.406416\n",
      "Cost after iteration 3100: 0.401613\n",
      "Cost after iteration 3200: 0.396936\n",
      "Cost after iteration 3300: 0.392379\n",
      "Cost after iteration 3400: 0.387939\n",
      "Cost after iteration 3500: 0.383610\n",
      "Cost after iteration 3600: 0.379388\n",
      "Cost after iteration 3700: 0.375269\n",
      "Cost after iteration 3800: 0.371250\n",
      "Cost after iteration 3900: 0.367327\n",
      "Cost after iteration 4000: 0.363496\n",
      "Cost after iteration 4100: 0.359754\n",
      "Cost after iteration 4200: 0.356098\n",
      "Cost after iteration 4300: 0.352525\n",
      "Cost after iteration 4400: 0.349031\n",
      "Cost after iteration 4500: 0.345615\n",
      "Cost after iteration 4600: 0.342273\n",
      "Cost after iteration 4700: 0.339002\n",
      "Cost after iteration 4800: 0.335802\n",
      "Cost after iteration 4900: 0.332668\n",
      "train accuracy: 100.0 %\n",
      "test accuracy: 100.0 %\n"
     ]
    }
   ],
   "source": [
    "logistic_regression_model = LogisticRegressor.model(x_train, y_train, x_test, y_test, num_iterations=5000, learning_rate=0.005, print_cost=True)"
   ]
  },
  {
   "cell_type": "code",
   "execution_count": 44,
   "metadata": {},
   "outputs": [
    {
     "name": "stdout",
     "output_type": "stream",
     "text": [
      "[1 1] = 1\n"
     ]
    }
   ],
   "source": [
    "# Example of prediction\n",
    "index = 3\n",
    "print(f\"{ x_test[:,index]} = {int(logistic_regression_model['Y_prediction_test'][0,index])}\") "
   ]
  },
  {
   "cell_type": "code",
   "execution_count": 51,
   "metadata": {},
   "outputs": [
    {
     "data": {
      "text/plain": [
       "[<matplotlib.lines.Line2D at 0x7f55ea349f30>]"
      ]
     },
     "execution_count": 51,
     "metadata": {},
     "output_type": "execute_result"
    },
    {
     "data": {
      "image/png": "[encoded data removed]",
      "text/plain": [
       "<Figure size 432x288 with 1 Axes>"
      ]
     },
     "metadata": {
      "needs_background": "light"
     },
     "output_type": "display_data"
    }
   ],
   "source": [
    "# Get Parameters from the train model\n",
    "w = logistic_regression_model['w']\n",
    "b = logistic_regression_model['b']\n",
    "\n",
    "# Plotting points and region line\n",
    "plt.figure()\n",
    "plt.scatter(x_train[0,:], x_train[1,:], s=200, c=['blue', 'blue', 'blue', 'red'])\n",
    "x_line = np.linspace(0,1,10)\n",
    "y_line = -x_line*(w[0]/w[1]) - b/w[1]\n",
    "plt.plot(y_line,x_line, '-r', label='y=mx+b')"
   ]
  },
  {
   "cell_type": "markdown",
   "metadata": {},
   "source": [
    "References\n",
    "- [Implementing the Perceptron Learning Algorithm to Solve AND Gate](https://medium.com/analytics-vidhya/implementing-perceptron-learning-algorithm-to-solve-and-in-python-903516300b2f)\n",
    "- [Let’s get classy: how to create modules and classes with Python](https://www.freecodecamp.org/news/lets-get-classy-how-to-create-modules-and-classes-with-python-44da18bb38d1/)"
   ]
  },
  {
   "cell_type": "markdown",
   "metadata": {},
   "source": []
  }
 ],
 "metadata": {
  "interpreter": {
   "hash": "84b8bfb3c63e0755cbd085b5dd3992522f4347293bfbd7da93547228ea0bde75"
  },
  "kernelspec": {
   "display_name": "Python 3.10.1 64-bit ('dlenv': venv)",
   "language": "python",
   "name": "python3"
  },
  "language_info": {
   "codemirror_mode": {
    "name": "ipython",
    "version": 3
   },
   "file_extension": ".py",
   "mimetype": "text/x-python",
   "name": "python",
   "nbconvert_exporter": "python",
   "pygments_lexer": "ipython3",
   "version": "3.10.1"
  },
  "orig_nbformat": 4
 },
 "nbformat": 4,
 "nbformat_minor": 2
}
